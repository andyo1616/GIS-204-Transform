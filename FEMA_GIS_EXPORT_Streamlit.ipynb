{
  "nbformat": 4,
  "nbformat_minor": 0,
  "metadata": {
    "colab": {
      "provenance": [],
      "authorship_tag": "ABX9TyNzxiD9taTUftc/lAllhoB4"
    },
    "kernelspec": {
      "name": "python3",
      "display_name": "Python 3"
    },
    "language_info": {
      "name": "python"
    }
  },
  "cells": [
    {
      "cell_type": "markdown",
      "source": [
        "Import Libraries:"
      ],
      "metadata": {
        "id": "I361tPcW_A_y"
      }
    },
    {
      "cell_type": "code",
      "execution_count": 10,
      "metadata": {
        "id": "kthy6Mu9-w5r",
        "colab": {
          "base_uri": "https://localhost:8080/",
          "height": 352
        },
        "outputId": "56393b35-5d2a-4a4d-ef27-1659c253547a"
      },
      "outputs": [
        {
          "output_type": "stream",
          "name": "stderr",
          "text": [
            "2024-11-06 21:03:06.036 Thread 'MainThread': missing ScriptRunContext! This warning can be ignored when running in bare mode.\n",
            "2024-11-06 21:03:06.038 Thread 'MainThread': missing ScriptRunContext! This warning can be ignored when running in bare mode.\n",
            "2024-11-06 21:03:06.041 Thread 'MainThread': missing ScriptRunContext! This warning can be ignored when running in bare mode.\n",
            "2024-11-06 21:03:06.043 Thread 'MainThread': missing ScriptRunContext! This warning can be ignored when running in bare mode.\n",
            "2024-11-06 21:03:06.045 Thread 'MainThread': missing ScriptRunContext! This warning can be ignored when running in bare mode.\n",
            "2024-11-06 21:03:06.047 Thread 'MainThread': missing ScriptRunContext! This warning can be ignored when running in bare mode.\n",
            "2024-11-06 21:03:06.048 Thread 'MainThread': missing ScriptRunContext! This warning can be ignored when running in bare mode.\n"
          ]
        },
        {
          "output_type": "error",
          "ename": "NameError",
          "evalue": "name 'df' is not defined",
          "traceback": [
            "\u001b[0;31m---------------------------------------------------------------------------\u001b[0m",
            "\u001b[0;31mNameError\u001b[0m                                 Traceback (most recent call last)",
            "\u001b[0;32m<ipython-input-10-0c52145908ac>\u001b[0m in \u001b[0;36m<cell line: 21>\u001b[0;34m()\u001b[0m\n\u001b[1;32m     19\u001b[0m \u001b[0mrows_to_delete\u001b[0m \u001b[0;34m=\u001b[0m \u001b[0;34m[\u001b[0m\u001b[0;34m]\u001b[0m\u001b[0;34m\u001b[0m\u001b[0;34m\u001b[0m\u001b[0m\n\u001b[1;32m     20\u001b[0m \u001b[0;34m\u001b[0m\u001b[0m\n\u001b[0;32m---> 21\u001b[0;31m \u001b[0;32mfor\u001b[0m \u001b[0mindex\u001b[0m\u001b[0;34m,\u001b[0m \u001b[0mrow\u001b[0m \u001b[0;32min\u001b[0m \u001b[0mdf\u001b[0m\u001b[0;34m.\u001b[0m\u001b[0miterrows\u001b[0m\u001b[0;34m(\u001b[0m\u001b[0;34m)\u001b[0m\u001b[0;34m:\u001b[0m\u001b[0;34m\u001b[0m\u001b[0;34m\u001b[0m\u001b[0m\n\u001b[0m\u001b[1;32m     22\u001b[0m   \u001b[0;32mif\u001b[0m \u001b[0mrow\u001b[0m\u001b[0;34m[\u001b[0m\u001b[0;34m'Division'\u001b[0m\u001b[0;34m]\u001b[0m \u001b[0;34m==\u001b[0m \u001b[0;34m'Throughout Designated Counties'\u001b[0m\u001b[0;34m:\u001b[0m\u001b[0;34m\u001b[0m\u001b[0;34m\u001b[0m\u001b[0m\n\u001b[1;32m     23\u001b[0m     \u001b[0;32mfor\u001b[0m \u001b[0mdivision\u001b[0m \u001b[0;32min\u001b[0m \u001b[0mdivisions\u001b[0m\u001b[0;34m:\u001b[0m\u001b[0;34m\u001b[0m\u001b[0;34m\u001b[0m\u001b[0m\n",
            "\u001b[0;31mNameError\u001b[0m: name 'df' is not defined"
          ]
        }
      ],
      "source": [
        "import streamlit as st\n",
        "import pandas as pd\n",
        "from google.colab import files\n",
        "from datetime import datetime\n",
        "\n",
        "st.title(\"Excel File Transformer\")\n",
        "\n",
        "# File uploader for users to upload .xlsx files\n",
        "uploaded_file = st.file_uploader(\"Choose an Excel file\", type=\"xlsx\")\n",
        "if uploaded_file:\n",
        "    # Read and transform the uploaded file\n",
        "    df = pd.read_excel(\"ICS_215_EXPORT.xlsx\")\n",
        "\n",
        "new_rows = []\n",
        "divisions = ['10 - Carter', '13 - Claiborne', '15 - Cocke', '29 - Grainger', '30 - Greene',\n",
        "             '32 - Hamblen', '37 - Hawkins', '45 - Jefferson', '46 - Johnson', '78 - Sevier',\n",
        "             '82 - Sullivan', '86 - Unicoi', '90 - Washington']\n",
        "\n",
        "rows_to_delete = []\n",
        "\n",
        "for index, row in df.iterrows():\n",
        "  if row['Division'] == 'Throughout Designated Counties':\n",
        "    for division in divisions:\n",
        "      new_row = row.copy()\n",
        "      new_row['Division'] = division\n",
        "      new_rows.append(new_row)\n",
        "    rows_to_delete.append(index)\n",
        "\n",
        "\n",
        "df1 = df.drop(rows_to_delete)\n",
        "df1 = pd.concat([df1, pd.DataFrame(new_rows)])\n",
        "\n",
        "# if Division = \"Not Set\", add \"NA - \" to the data\n",
        "\n",
        "df1.loc[df1['Division'] == 'Not Set', 'Division'] = 'NA - ' + df1.loc[df1['Division'] == 'Not Set', 'Division']\n",
        "\n",
        "# if Division = \"Branch Office\", add \"NA - \" to the data\n",
        "\n",
        "df1.loc[df1['Division'] == 'Branch Office', 'Division'] = 'NA - ' + df1.loc[df1['Division'] == 'Branch Office', 'Division']\n",
        "\n",
        "# create new column called \"temp\" from data in Division\n",
        "\n",
        "df1['temp'] = df1['Division']\n",
        "\n",
        "# remove the first 5 characters in the \"temp\" column\n",
        "\n",
        "df1['temp'] = df1['temp'].str[5:]\n",
        "\n",
        "# keep only the first two characters in Division Column\n",
        "\n",
        "df1['Division'] = df1['Division'].str[:2]\n",
        "\n",
        "# Replace values in \"County\" with values from \"temp\"\n",
        "df1[\"County\"] = df1[\"temp\"]\n",
        "\n",
        "# Delete the \"temp\" column\n",
        "df1 = df1.drop(\"temp\", axis=1)\n",
        "\n",
        "# Create Branch Column\n",
        "df1['Branch'] = ''\n",
        "\n",
        "for index, row in df1.iterrows():\n",
        "  if row['Division'] in ['47', '78', '45', '15', '30', '32', '37', '29', '34', '13']:\n",
        "    df1.loc[index, 'Branch'] = 'I'\n",
        "  elif row['Division'] in ['86', '90', '10', '46', '82']:\n",
        "    df1.loc[index, 'Branch'] = 'II'\n",
        "\n",
        "# Get the current date in DDMMMYY format\n",
        "current_date = datetime.now().strftime(\"%d%b%y\")\n",
        "\n",
        "# Export df1 as Excel file with date in filename\n",
        "excel_filename = f\"GIS_204_Export_{current_date}.xlsx\"\n",
        "df1.to_excel(excel_filename, index=False)\n",
        "\n",
        "# Download the Excel file\n",
        "files.download(excel_filename)"
      ]
    }
  ]
}